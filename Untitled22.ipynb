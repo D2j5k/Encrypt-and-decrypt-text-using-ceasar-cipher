{
  "nbformat": 4,
  "nbformat_minor": 0,
  "metadata": {
    "colab": {
      "provenance": [],
      "gpuType": "T4",
      "authorship_tag": "ABX9TyMufI36MomLUat+OCtLSena",
      "include_colab_link": true
    },
    "kernelspec": {
      "name": "python3",
      "display_name": "Python 3"
    },
    "language_info": {
      "name": "python"
    },
    "accelerator": "GPU"
  },
  "cells": [
    {
      "cell_type": "markdown",
      "metadata": {
        "id": "view-in-github",
        "colab_type": "text"
      },
      "source": [
        "<a href=\"https://colab.research.google.com/github/D2j5k/Encrypt-and-decrypt-text-using-ceasar-cipher/blob/main/Untitled22.ipynb\" target=\"_parent\"><img src=\"https://colab.research.google.com/assets/colab-badge.svg\" alt=\"Open In Colab\"/></a>"
      ]
    },
    {
      "cell_type": "code",
      "execution_count": null,
      "metadata": {
        "colab": {
          "base_uri": "https://localhost:8080/"
        },
        "id": "5ruGqqqXcf2J",
        "outputId": "8dbf640c-719a-4b6e-9435-69ec9665b160"
      },
      "outputs": [
        {
          "output_type": "stream",
          "name": "stdout",
          "text": [
            "Caesar Cipher Tool\n",
            "Do you want to (E)ncrypt or (D)ecrypt?: e\n",
            "Enter your message: how are u\n",
            "Enter shift value (integer): 10\n",
            "Encrypted message: ryg kbo e\n"
          ]
        }
      ],
      "source": [
        "def caesar_encrypt(text, shift):\n",
        "    result = \"\"\n",
        "    for char in text:\n",
        "        if char.isalpha():\n",
        "            base = ord('A') if char.isupper() else ord('a')\n",
        "            # Shift character and wrap around using modulo\n",
        "            result += chr((ord(char) - base + shift) % 26 + base)\n",
        "        else:\n",
        "            # Non-alphabetic characters remain unchanged\n",
        "            result += char\n",
        "    return result\n",
        "\n",
        "def caesar_decrypt(text, shift):\n",
        "    return caesar_encrypt(text, -shift)\n",
        "\n",
        "def main():\n",
        "    print(\"Caesar Cipher Tool\")\n",
        "    choice = input(\"Do you want to (E)ncrypt or (D)ecrypt?: \").strip().upper()\n",
        "\n",
        "    if choice not in ['E', 'D']:\n",
        "        print(\"Invalid option. Please choose 'E' or 'D'.\")\n",
        "        return\n",
        "\n",
        "    message = input(\"Enter your message: \")\n",
        "    try:\n",
        "        shift = int(input(\"Enter shift value (integer): \"))\n",
        "    except ValueError:\n",
        "        print(\"Invalid shift value. Please enter an integer.\")\n",
        "        return\n",
        "\n",
        "    if choice == 'E':\n",
        "        encrypted = caesar_encrypt(message, shift)\n",
        "        print(\"Encrypted message:\", encrypted)\n",
        "    else:\n",
        "        decrypted = caesar_decrypt(message, shift)\n",
        "        print(\"Decrypted message:\", decrypted)\n",
        "\n",
        "if __name__ == \"__main__\":\n",
        "    main()\n"
      ]
    }
  ]
}